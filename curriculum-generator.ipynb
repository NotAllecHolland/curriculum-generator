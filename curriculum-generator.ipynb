{
 "cells": [
  {
   "cell_type": "code",
   "execution_count": null,
   "id": "5930b335-70ae-4fc7-9d76-61980651c599",
   "metadata": {},
   "outputs": [],
   "source": [
    "import requests\n",
    "\n",
    "topic = input(\"What topic do you want to learn? \")\n",
    "days = input(\"How many days should the curriculum be? \")\n",
    "\n",
    "prompt = f\"Create a {days}-day beginner-friendly curriculum to learn {topic}. Each day should include a title, learning goal, and one free resource.\"\n",
    "\n",
    "# If using Hugging Face, paste your key below or use getpass\n",
    "import getpass\n",
    "hf_key = getpass.getpass(\"Enter Hugging Face API key: \")\n",
    "\n",
    "headers = {\n",
    "    \"Authorization\": f\"Bearer {hf_key}\"\n",
    "}\n",
    "\n",
    "response = requests.post(\n",
    "    \"https://api-inference.huggingface.co/models/google/flan-t5-base\",\n",
    "    headers=headers,\n",
    "    json={\"inputs\": prompt}\n",
    ")\n",
    "\n",
    "output = response.json()\n",
    "print(\"\\n📚 Generated Curriculum:\\n\")\n",
    "print(output[0]['generated_text'] if isinstance(output, list) else output)\n"
   ]
  }
 ],
 "metadata": {
  "kernelspec": {
   "display_name": "",
   "name": ""
  },
  "language_info": {
   "name": ""
  }
 },
 "nbformat": 4,
 "nbformat_minor": 5
}
