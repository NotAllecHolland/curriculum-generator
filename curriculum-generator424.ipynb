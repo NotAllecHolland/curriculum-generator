{
 "cells": [
  {
   "cell_type": "markdown",
   "id": "48d315fc",
   "metadata": {},
   "source": [
    "# 📚 Curriculum Generator Using Hugging Face API\n",
    "\n",
    "This Jupyter notebook asks for a topic and duration, then uses a Hugging Face model to generate a day-by-day learning plan."
   ]
  },
  {
   "cell_type": "code",
   "execution_count": null,
   "id": "24d6e2e1",
   "metadata": {},
   "outputs": [],
   "source": [
    "import requests\n",
    "import getpass"
   ]
  },
  {
   "cell_type": "code",
   "execution_count": null,
   "id": "c68ede2d",
   "metadata": {},
   "outputs": [],
   "source": [
    "topic = input(\"What topic do you want to learn? \")\n",
    "days = input(\"How many days should the curriculum be? \")\n",
    "\n",
    "hf_key = getpass.getpass(\"Enter Hugging Face API key: \")"
   ]
  },
  {
   "cell_type": "code",
   "execution_count": null,
   "id": "ff30fd39",
   "metadata": {},
   "outputs": [],
   "source": [
    "prompt = (\n",
    "    f\"Generate a {days}-day beginner curriculum for {topic}. \"\n",
    "    \"List each day as: Day #: Title - Goal - Free online resource.\\n\"\n",
    "    \"Start with Day 1.\"\n",
    ")"
   ]
  },
  {
   "cell_type": "code",
   "execution_count": null,
   "id": "d6784f07",
   "metadata": {},
   "outputs": [],
   "source": [
    "headers = {\n",
    "    \"Authorization\": f\"Bearer {hf_key}\"\n",
    "}\n",
    "\n",
    "response = requests.post(\n",
    "    \"https://api-inference.huggingface.co/models/google/flan-t5-large\",\n",
    "    headers=headers,\n",
    "    json={\n",
    "        \"inputs\": prompt,\n",
    "        \"parameters\": {\"max_new_tokens\": 500}\n",
    "    }\n",
    ")"
   ]
  },
  {
   "cell_type": "code",
   "execution_count": null,
   "id": "b91b1934",
   "metadata": {},
   "outputs": [],
   "source": [
    "print(\"⚠️ Raw response from Hugging Face:\\n\", response.text)\n",
    "\n",
    "try:\n",
    "    output = response.json()\n",
    "    print(\"\\n📚 Generated Curriculum:\\n\")\n",
    "    print(output[0]['generated_text'] if isinstance(output, list) else output)\n",
    "except Exception as e:\n",
    "    print(f\"❌ Error decoding response: {e}\")"
   ]
  }
 ],
 "metadata": {},
 "nbformat": 4,
 "nbformat_minor": 5
}
